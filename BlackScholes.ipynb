{
 "cells": [
  {
   "cell_type": "code",
   "execution_count": 7,
   "metadata": {},
   "outputs": [
    {
     "name": "stdout",
     "output_type": "stream",
     "text": [
      "The fair price for this warrant is: $2.54\n"
     ]
    }
   ],
   "source": [
    "import math\n",
    "from scipy.stats import norm\n",
    "\n",
    "def black_scholes_model_prob(s0, k, t, r, sigma): #Returns the probability of a stock reaching a price, k in a time period, t\n",
    "\n",
    "    d1 = (math.log(s0 / k) + (r + sigma**2 / 2) * t) / (sigma * math.sqrt(t))\n",
    "    return(norm.cdf(-d1))\n",
    "\n",
    "def black_scholes_model(s0, k, t, r, sigma): #Returns the option price\n",
    "\n",
    "    d1 = (math.log(s0 / k) + (r + sigma**2 / 2) * t) / (sigma * math.sqrt(t))\n",
    "    d2 = d1 - sigma * math.sqrt(t)\n",
    "\n",
    "    call_price = s0 * norm.cdf(d1) - k * math.exp(-r * t) * norm.cdf(d2)\n",
    "    return call_price\n",
    "\n",
    "\n",
    "s0= 10\n",
    "k1= 12\n",
    "k2=14\n",
    "t1=0.5\n",
    "t2= 1\n",
    "r=0.02\n",
    "sigma= 0.7\n",
    "\n",
    "p1 = black_scholes_model_prob(s0, k1, t1, r, sigma) + black_scholes_model_prob(s0, k2, t2, r, sigma) #probability of either of the two cases happening\n",
    "p2 = black_scholes_model_prob(s0, k1, t1, r, sigma) * black_scholes_model_prob(s0, k2, t2, r, sigma) #probability of both of the cases happening\n",
    "\n",
    "pk1 = p1 - p2 #Finds the probability of one of the cases happening\n",
    "pk2 = 1-pk1 \n",
    "\n",
    "\n",
    "fairOptionPrice = round((pk1 * black_scholes_model(s0, 11, t2, r, sigma)) + (pk2 * black_scholes_model(s0, 10, t2, r, sigma)), 2) #Finds the expected value of the stock option using the probabilities of each situation, rounded to two decimal places\n",
    "\n",
    "print(\"The fair price for this warrant is: $\" + str(fairOptionPrice)) #Prints the fair warrant price"
   ]
  }
 ],
 "metadata": {
  "kernelspec": {
   "display_name": "Python 3.11.4 64-bit",
   "language": "python",
   "name": "python3"
  },
  "language_info": {
   "codemirror_mode": {
    "name": "ipython",
    "version": 3
   },
   "file_extension": ".py",
   "mimetype": "text/x-python",
   "name": "python",
   "nbconvert_exporter": "python",
   "pygments_lexer": "ipython3",
   "version": "3.11.4"
  },
  "orig_nbformat": 4,
  "vscode": {
   "interpreter": {
    "hash": "aee8b7b246df8f9039afb4144a1f6fd8d2ca17a180786b69acc140d282b71a49"
   }
  }
 },
 "nbformat": 4,
 "nbformat_minor": 2
}
